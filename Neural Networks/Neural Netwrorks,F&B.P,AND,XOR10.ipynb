{
 "cells": [
  {
   "cell_type": "markdown",
   "metadata": {},
   "source": [
    "---\n",
    "# **Neural Networks**\n",
    "- Neural Networks are computing systems inspired by the biological neural networks in animal brains. They consist of layers of interconnected nodes (neurons) that learn from data.\n",
    "## **Introduction to Neural Network**\n",
    "- ### **Introduction**\n",
    "    - A method of computing, based on the interaction of multiple connected processing elements. \n",
    "    - A powerful technique to solve many real world problems. \n",
    "    - The ability to learn from experience in order to improve their performance. \n",
    "    - Ability to deal with incomplete information. \n",
    "    \n",
    "    - #### **Neurons**\n",
    "      - The basic unit of a neural network. It receives input, processes it with an activation function, and passes the output to the next layer.\n",
    "        - ![Neural Netwrorks](<./Images/Neural%20Netwrorks%20(1).png>)\n",
    "        - #### **Neural Network Neurons**\n",
    "            - ![Neural Netwrorks](<./Images/Neural%20Netwrorks%20(2).png>)\n",
    "            - #### **Activation Functions**\n",
    "              - Mathematical functions that determine if a neuron should be activated. Common functions include Sigmoid, ReLU, and Tanh.\n",
    "                - ![Neural Netwrorks](<./Images/Neural%20Netwrorks%20(3).png>)\n",
    "                - #### **Other Functions**\n",
    "                    - ![Neural Netwrorks](<./Images/Neural%20Netwrorks%20(4).png>)\n",
    "        - #### **Types of neural networks**\n",
    "            - ![Neural Netwrorks](<./Images/Neural%20Netwrorks%20(5).png>)\n",
    "        - #### **Neural Network Applications**\n",
    "          - Neural networks are widely used in areas like pattern recognition, financial forecasting, control systems, and mobile computing.\n",
    "            - Pattern Recognition\n",
    "            - Investment analysis \n",
    "            - Control systems and monitoring \n",
    "            - Mobile computing\n",
    "            - Market and financial application \n",
    "            - Forecasting - sales, market research, meterology\n",
    "---\n",
    "\n",
    "## **Understanding Forward and Backward Propagation of Neural Networks**\n",
    "\n",
    "- ### **Neural Networks Forward and Backward Propagation**\n",
    "  - #### **The network in consideration**\n",
    "    - ![Neural Netwrorks](<./Images/Neural%20Netwrorks%20(6).png>)\n",
    "    - #### **Forward Propagation**\n",
    "      - The process of passing input data through the network to generate output. Each layer's output becomes the input for the next layer until the final output is produced.\n",
    "        - ![Neural Netwrorks](<./Images/Neural%20Netwrorks%20(7).png>)\n",
    "        - ![Neural Netwrorks](<./Images/Neural%20Netwrorks%20(8).png>)\n",
    "        - ![Neural Netwrorks](<./Images/Neural%20Netwrorks%20(10).png>)\n",
    "    - #### **Backward Propagation**\n",
    "      - A learning algorithm used to adjust the weights of the network based on the error of the output. It works by calculating the gradient of the loss function and updating the weights using gradient descent.\n",
    "        - ![Neural Netwrorks](<./Images/Neural%20Netwrorks%20(11).png>)\n",
    "        - ![Neural Netwrorks](<./Images/Neural%20Netwrorks%20(13).png>)\n",
    "        - ![Neural Netwrorks](<./Images/Neural%20Netwrorks%20(14).png>)\n",
    "        - ![Neural Netwrorks](<./Images/Neural%20Netwrorks%20(17).png>)\n",
    "\n",
    "---\n",
    "\n",
    "## **Implementation of AND gate using Neural Networks**\n",
    "\n",
    "### **AND Gate**\n",
    "\n",
    "- Implemented using a perceptron model with weights and biases. It performs a binary classification to determine the AND relationship between inputs.\n"
   ]
  },
  {
   "cell_type": "code",
   "execution_count": 33,
   "metadata": {},
   "outputs": [],
   "source": [
    "import numpy as np"
   ]
  },
  {
   "cell_type": "markdown",
   "metadata": {},
   "source": [
    "#### **Define Unit Step Function**"
   ]
  },
  {
   "cell_type": "code",
   "execution_count": 34,
   "metadata": {},
   "outputs": [],
   "source": [
    "def unitStep(v):\n",
    "    if v>=0:\n",
    "        return 1\n",
    "    else:\n",
    "        return 0"
   ]
  },
  {
   "cell_type": "markdown",
   "metadata": {},
   "source": [
    "#### **Design Perceptron model**\n"
   ]
  },
  {
   "cell_type": "code",
   "execution_count": 35,
   "metadata": {},
   "outputs": [],
   "source": [
    "def perceptronModel(x,w,b):\n",
    "    v = np.dot(x,w)+b\n",
    "    y = unitStep(v)\n",
    "    return y"
   ]
  },
  {
   "cell_type": "markdown",
   "metadata": {},
   "source": [
    "#### **w1 = 1, w2 = 1, b = -1.5**"
   ]
  },
  {
   "cell_type": "code",
   "execution_count": 36,
   "metadata": {},
   "outputs": [],
   "source": [
    "def And_function(x):\n",
    "    w = np.array([1,1])\n",
    "    b = -1.5\n",
    "    return perceptronModel(x,w,b)"
   ]
  },
  {
   "cell_type": "markdown",
   "metadata": {},
   "source": [
    "#### **Testing**"
   ]
  },
  {
   "cell_type": "code",
   "execution_count": 37,
   "metadata": {},
   "outputs": [
    {
     "name": "stdout",
     "output_type": "stream",
     "text": [
      "AND(0,1)= 0\n"
     ]
    }
   ],
   "source": [
    "result = np.array([0,1])\n",
    "print(\"AND({},{})= {}\".format(0,1,And_function(result)))"
   ]
  },
  {
   "cell_type": "markdown",
   "metadata": {},
   "source": [
    "#\n",
    "---\n",
    "## **Implementation of XOR gate using Neural Networks**\n",
    "### **XOR Gate**\n",
    "- The XOR gate is a more complex gate implemented using a neural network with a hidden layer, showcasing the non-linear capabilities of neural networks by solving the XOR problem, which cannot be solved using a single perceptron. The XOR gate outputs **1** only when the two inputs are different (i.e., [0, 1] or [1, 0]), and **0** when they are the same ([0, 0] or [1, 1]). This classic problem highlights that a single-layer perceptron, which is a linear classifier, cannot handle non-linearly separable problems like XOR.\n",
    "#### **Network Structure**\n",
    "- **Input Layer** 2 inputs representing the two binary values for the XOR gate.\n",
    "- **Hidden Layer** 2 neurons in this layer, which introduces non-linearity into the network, making it possible to learn the XOR function.\n",
    "- **Output Layer** 1 output neuron that gives the XOR result, either 0 or 1.\n",
    "\n"
   ]
  },
  {
   "cell_type": "code",
   "execution_count": 38,
   "metadata": {},
   "outputs": [],
   "source": [
    "import numpy as np\n",
    "# XOR Inputs\n",
    "x = np.array([[0,0,1,1],[0,1,0,1]])\n",
    "# XOR Outputs\n",
    "y = np.array([0,1,1,0])\n"
   ]
  },
  {
   "cell_type": "markdown",
   "metadata": {},
   "source": [
    "#### **Parameters**\n",
    "- **x** The XOR inputs as a 2x4 matrix where each column represents a different input combination (00, 01, 10, 11).\n",
    "- **y** The XOR outputs as a vector corresponding to the correct result for each input combination.\n",
    "- **n_x**, **n_y**, **n_h** Number of neurons in the input, output, and hidden layers, respectively.\n",
    "- **lr** Learning rate, which controls how much the weights are adjusted during each iteration of training.\n",
    "- **w1**, **w2** Randomly initialized weight matrices for the input to hidden layer (**w1**) and hidden to output layer (**w2**)."
   ]
  },
  {
   "cell_type": "code",
   "execution_count": 39,
   "metadata": {},
   "outputs": [],
   "source": [
    "# Number if inputs \n",
    "n_x = 2\n",
    "# Number of neurons in the output layer\n",
    "n_y = 1\n",
    "# Number of neurons in the hidden layer\n",
    "n_h = 2\n",
    "\n",
    "# Total training examples\n",
    "m = x.shape[1]\n",
    "\n",
    "# Learning rate\n",
    "lr = 0.1\n",
    "\n",
    "# Define weight matrices for nueral network\n",
    "w1 = np.random.rand(n_h,n_x)\n",
    "w2 = np.random.rand(n_y,n_h)\n",
    "\n",
    "losses=[]"
   ]
  },
  {
   "cell_type": "markdown",
   "metadata": {},
   "source": [
    "\n",
    "#### **Activation Function**\n",
    "- **Sigmoid Function** A commonly used activation function that squashes the input between 0 and 1, helping to model non-linearities. It is defined as:\n",
    "  $$\n",
    "  \\sigma(z) = \\frac{1}{1 + e^{-z}}\n",
    "  $$\n",
    "  where **z** is the weighted sum of inputs."
   ]
  },
  {
   "cell_type": "code",
   "execution_count": 40,
   "metadata": {},
   "outputs": [],
   "source": [
    "def sigmoid(z):\n",
    "    z = 1/(1+np.exp(-z))\n",
    "    return z\n"
   ]
  },
  {
   "cell_type": "markdown",
   "metadata": {},
   "source": [
    "#### **Forward Propagation**\n",
    "The network calculates outputs by passing inputs forward through the layers\n",
    "1. **Input to Hidden Layer** Multiply the input **x** with weight matrix **w1** and apply the sigmoid activation function.\n",
    "2. **Hidden to Output Layer** Multiply the activated hidden layer output with weight matrix **w2** and apply sigmoid again to get the final output.\n",
    "   - **z1 = np.dot(w1, x)** Compute the weighted sum for the hidden layer.\n",
    "   - **a1 = sigmoid(z1)** Apply sigmoid activation to hidden layer.\n",
    "   - **z2 = np.dot(w2, a1)** Compute weighted sum for the output layer.\n",
    "   - **a2 = sigmoid(z2)** Final output after sigmoid activation."
   ]
  },
  {
   "cell_type": "code",
   "execution_count": 41,
   "metadata": {},
   "outputs": [],
   "source": [
    "def forward_prop(w1,w2,x):\n",
    "    z1 = np.dot(w1,x)\n",
    "    a1= sigmoid(z1)\n",
    "    z2 = np.dot(w2,a1)\n",
    "    a2 = sigmoid(z2)\n",
    "    return z1,a1,z2,a2"
   ]
  },
  {
   "cell_type": "markdown",
   "metadata": {},
   "source": [
    "#### **Backward Propagation**\n",
    "To train the neural network, we use backpropagation to adjust the weights based on the error\n",
    "- **Error at Output** Compute the difference between the actual output (**a2**) and the target (**y**).\n",
    "- **Error at Hidden Layer** Backpropagate the error from the output layer to the hidden layer using the derivative of the activation function (sigmoid).\n",
    "   - **dz2 = a2 - y** Error at output layer.\n",
    "   - **dw2 = np.dot(dz2, a1.T) / m** Gradient for weights from hidden to output.\n",
    "   - **dz1 = np.dot(w2.T, dz2) * a1 * (1 - a1)** Error at hidden layer.\n",
    "   - **dw1 = np.dot(dz1, x.T) / m** Gradient for weights from input to hidden."
   ]
  },
  {
   "cell_type": "code",
   "execution_count": 42,
   "metadata": {},
   "outputs": [],
   "source": [
    "\n",
    "def backward_prop(m,w1,w2,z1,a1,z2,a2,y):\n",
    "    dz2 = a2-y\n",
    "    dw2 = np.dot(dz2,a1.T)/m\n",
    "    dz1 = np.dot(w2.T, dz2)*a1*(1-a1)\n",
    "    dw1 = np.dot(dz1,x.T)/m\n",
    "    dw1 = np.reshape(dw1,w1.shape)\n",
    "    dw2 = np.reshape(dw2,w2.shape)\n",
    "    return dz2,dw2,dz1,dw1"
   ]
  },
  {
   "cell_type": "markdown",
   "metadata": {},
   "source": [
    "#### **Training Loop**\n",
    "The model iterates through the forward and backward propagation steps for **iterations = 10000**. After each iteration, the weights are updated to minimize the loss\n",
    "   $$\n",
    "   loss = -(1/m)*np.sum(y*np.log(a2)+(1-y)*np.log(1-a2))\n",
    "   $$ \n",
    "   Calculate the loss using binary cross-entropy.\n",
    "   - The loss is added to the **losses** list to track the training progress.\n",
    "   - Weights **w1** and **w2** are updated using gradient descent."
   ]
  },
  {
   "cell_type": "code",
   "execution_count": 43,
   "metadata": {},
   "outputs": [],
   "source": [
    "import matplotlib.pyplot as plt\n",
    "\n",
    "iterations = 10000\n",
    "for i in range(iterations):\n",
    "    z1,a1,z2,a2 = forward_prop(w1,w2,x)\n",
    "    loss = -(1/m)*np.sum(y*np.log(a2)+(1-y)*np.log(1-a2))\n",
    "    losses.append(loss)\n",
    "    da2,dw2,dz1,dw1 = backward_prop(m,w1,w2,z1,a1,z2,a2,y)\n",
    "    w2 = w2-lr*dw2\n",
    "    w1 = w1-lr*dw1"
   ]
  },
  {
   "cell_type": "markdown",
   "metadata": {},
   "source": [
    "#### **Plotting Loss**\n",
    "After training, the losses are plotted to show how the model's error decreases over time, indicating successful learning."
   ]
  },
  {
   "cell_type": "code",
   "execution_count": 44,
   "metadata": {},
   "outputs": [
    {
     "data": {
      "text/plain": [
       "Text(0, 0.5, 'Loss value')"
      ]
     },
     "execution_count": 44,
     "metadata": {},
     "output_type": "execute_result"
    },
    {
     "data": {
      "image/png": "[encoded data removed]",
      "text/plain": [
       "<Figure size 640x480 with 1 Axes>"
      ]
     },
     "metadata": {},
     "output_type": "display_data"
    }
   ],
   "source": [
    "plt.plot(losses)\n",
    "plt.xlabel(\"Epochs\")\n",
    "plt.ylabel(\"Loss value\")"
   ]
  },
  {
   "cell_type": "markdown",
   "metadata": {},
   "source": [
    "\n",
    "#### **Prediction Function**\n",
    "The **predict** function takes new inputs and predicts the output of the XOR gate:\n",
    "- It computes the output by running the forward propagation for the given input.\n",
    "- Based on the final output (**a2**), it determines whether the result is **0** or **1** using a threshold of 0.5."
   ]
  },
  {
   "cell_type": "code",
   "execution_count": 45,
   "metadata": {},
   "outputs": [],
   "source": [
    "def predict(w1,w2,input):\n",
    "    z1,a1,z2,a2 = forward_prop(w1,w2,test)\n",
    "    a2 = np.squeeze(a2)\n",
    "    if a2 >= 0.5:\n",
    "        print(\"For Input\", [i[0] for i in input], \"Output is 1\")\n",
    "    else:\n",
    "        print(\"For Input\", [i[0] for i in input], \"Output is 0\" )"
   ]
  },
  {
   "cell_type": "markdown",
   "metadata": {},
   "source": [
    "#### **Test Cases**\n",
    "Several test cases are used to check the network's performance"
   ]
  },
  {
   "cell_type": "code",
   "execution_count": 46,
   "metadata": {},
   "outputs": [
    {
     "name": "stdout",
     "output_type": "stream",
     "text": [
      "For Input [1, 0] Output is 1\n",
      "For Input [1, 1] Output is 0\n",
      "For Input [0, 0] Output is 0\n",
      "For Input [0, 1] Output is 1\n"
     ]
    }
   ],
   "source": [
    "test = np.array([[1],[0]])\n",
    "predict(w1, w2, test)\n",
    "test = np.array([[1],[1]])\n",
    "predict(w1, w2, test)\n",
    "test = np.array([[0],[0]])\n",
    "predict(w1, w2, test)\n",
    "test = np.array([[0],[1]])\n",
    "predict(w1, w2, test)"
   ]
  },
  {
   "cell_type": "markdown",
   "metadata": {},
   "source": [
    "#### **Key Results**\n",
    "The neural network correctly predicts the XOR outputs for all possible inputs\n",
    "- XOR(0, 0) = 0\n",
    "- XOR(0, 1) = 1\n",
    "- XOR(1, 0) = 1\n",
    "- XOR(1, 1) = 0\n",
    "\n",
    "---"
   ]
  }
 ],
 "metadata": {
  "kernelspec": {
   "display_name": "Python 3",
   "language": "python",
   "name": "python3"
  },
  "language_info": {
   "codemirror_mode": {
    "name": "ipython",
    "version": 3
   },
   "file_extension": ".py",
   "mimetype": "text/x-python",
   "name": "python",
   "nbconvert_exporter": "python",
   "pygments_lexer": "ipython3",
   "version": "3.12.3"
  }
 },
 "nbformat": 4,
 "nbformat_minor": 2
}
