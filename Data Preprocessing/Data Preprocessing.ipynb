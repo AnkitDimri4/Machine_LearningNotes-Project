{
 "cells": [
  {
   "cell_type": "markdown",
   "metadata": {},
   "source": [
    "---\n",
    "- # **Data Preprocessing**\n",
    "  - ## **Introduction to Data Preprocessing** \n",
    "    - ### **Data Cleaning (Coding Examples Included)**\n",
    "        - ### **What is Data Preprocessing?**\n",
    "          - ![Data_Cleaning](https://assets.leetcode.com/users/images/6e47e11a-bd79-4b28-b450-b3308d5b0156_1724759206.9219215.png)\n",
    "          - **Data preprocessing is a crucial step in data mining that involves transforming raw data into a useful and efficient format. It prepares data for further analysis by addressing inconsistencies and making sure the data is clean and organized.**\n",
    "          - ![Data_Cleaning](https://assets.leetcode.com/users/images/607b977b-686f-490b-a53c-91dd98cad41b_1724759585.4388509.png)\n",
    "        - #### **Data Cleaning**\n",
    "          - **Data Cleaning** The process of removing or correcting inaccurate, incomplete, or irrelevant data. It involves identifying and handling missing values, outliers, and errors in the data.\n",
    "          - ![Data_Cleaning](https://assets.leetcode.com/users/images/57831dc4-bfab-435c-93aa-9b48901c9695_1724759927.1224623.png)\n",
    "          - **Noisy Data** Data that contains errors or outliers, which can lead to inaccurate models if not properly handled.\n",
    "            - ![Noisy_Data](https://assets.leetcode.com/users/images/2a57075c-8911-4f9f-99d8-ea3dc23cb6c4_1724759737.7481816.png)\n",
    "  \n",
    "          - **Binning** A technique to smoothen noisy data by grouping a set of values into bins or ranges.\n",
    "          - ![Binning](https://assets.leetcode.com/users/images/87300ae0-547f-41b8-8f61-3c444b5d12a5_1724760070.2035396.png)\n",
    "          - ![Binning ](https://assets.leetcode.com/users/images/9d5e977b-a375-4a6b-8fb7-a004efe635a2_1724760144.1875634.png)\n",
    "- **Handling Missing Values: Data Cleaning Code**\n",
    "  - Missing values in the data can be handled using various strategies such as deletion, mean/mode/median imputation, or using algorithms that can handle missing data.\n"
   ]
  },
  {
   "cell_type": "code",
   "execution_count": null,
   "metadata": {},
   "outputs": [],
   "source": []
  }
 ],
 "metadata": {
  "language_info": {
   "name": "python"
  }
 },
 "nbformat": 4,
 "nbformat_minor": 2
}
