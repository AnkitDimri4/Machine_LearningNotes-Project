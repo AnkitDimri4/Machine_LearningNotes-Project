{
 "cells": [
  {
   "cell_type": "markdown",
   "metadata": {},
   "source": [
    "---\n",
    "- # **Data Preprocessing**\n",
    "  - ## **Introduction to Data Preprocessing** \n",
    "    - ### **Data Cleaning (Coding Examples Included)**\n",
    "        - ### **What is Data Preprocessing?**\n",
    "          - ![Data_Cleaning](https://assets.leetcode.com/users/images/6e47e11a-bd79-4b28-b450-b3308d5b0156_1724759206.9219215.png)\n",
    "          - **Data preprocessing is a crucial step in data mining that involves transforming raw data into a useful and efficient format. It prepares data for further analysis by addressing inconsistencies and making sure the data is clean and organized.**\n",
    "          - ![Data_Cleaning](https://assets.leetcode.com/users/images/607b977b-686f-490b-a53c-91dd98cad41b_1724759585.4388509.png)\n",
    "        - #### **Data Cleaning**\n",
    "          - **Data Cleaning** The process of removing or correcting inaccurate, incomplete, or irrelevant data. It involves identifying and handling missing values, outliers, and errors in the data.\n",
    "          - ![Data_Cleaning](https://assets.leetcode.com/users/images/57831dc4-bfab-435c-93aa-9b48901c9695_1724759927.1224623.png)\n",
    "          - **Noisy Data** Data that contains errors or outliers, which can lead to inaccurate models if not properly handled.\n",
    "            - ![Noisy_Data](https://assets.leetcode.com/users/images/2a57075c-8911-4f9f-99d8-ea3dc23cb6c4_1724759737.7481816.png)\n",
    "  \n",
    "          - **Binning** A technique to smoothen noisy data by grouping a set of values into bins or ranges.\n",
    "          - ![Binning](https://assets.leetcode.com/users/images/87300ae0-547f-41b8-8f61-3c444b5d12a5_1724760070.2035396.png)\n",
    "          - ![Binning ](https://assets.leetcode.com/users/images/9d5e977b-a375-4a6b-8fb7-a004efe635a2_1724760144.1875634.png)\n",
    "- **Handling Missing Values: Data Cleaning Code**\n",
    "  - Missing values in the data can be handled using various strategies such as deletion, mean/mode/median imputation, or using algorithms that can handle missing data.\n"
   ]
  },
  {
   "cell_type": "markdown",
   "metadata": {},
   "source": [
    "# **Data Preprocessing**\n",
    "\n",
    "## **Introduction to Data Preprocessing**\n",
    "\n",
    "### **Data Cleaning (Coding Examples Included)**\n",
    "\n",
    "#### **What is Data Preprocessing?**\n",
    "\n",
    "Data preprocessing is a crucial step in data mining that involves transforming raw data into a useful and efficient format. It prepares data for further analysis by addressing inconsistencies and making sure the data is clean and organized.\n",
    "![Data Cleaning](https://assets.leetcode.com/users/images/2b0edf80-d8ff-40ad-97cf-e11fc51d260c_1724768570.7497544.png)\n",
    "![Screenshot 2024-06-25 183616.png](https://assets.leetcode.com/users/images/2b0edf80-d8ff-40ad-97cf-e11fc51d260c_1724768570.7497544.png)\n",
    "![Data Cleaning](https://assets.leetcode.com/users/images/6e47e11a-bd79-4b28-b450-b3308d5b0156_1724759206.9219215.png)\n",
    "![Data Cleaning](https://assets.leetcode.com/users/images/607b977b-686f-490b-a53c-91dd98cad41b_1724759585.4388509.png)\n",
    "\n",
    "#### **Data Cleaning**\n",
    "\n",
    "**Data Cleaning** is the process of removing or correcting inaccurate, incomplete, or irrelevant data. It involves identifying and handling missing values, outliers, and errors in the data.\n",
    "\n",
    "![Data Cleaning](https://assets.leetcode.com/users/images/57831dc4-bfab-435c-93aa-9b48901c9695_1724759927.1224623.png)\n",
    "\n",
    "**Noisy Data** refers to data that contains errors or outliers, which can lead to inaccurate models if not properly handled.\n",
    "\n",
    "![Noisy Data](https://assets.leetcode.com/users/images/2a57075c-8911-4f9f-99d8-ea3dc23cb6c4_1724759737.7481816.png)\n",
    "\n",
    "**Binning** is a technique used to smooth noisy data by grouping a set of values into bins or ranges.\n",
    "\n",
    "![Binning](https://assets.leetcode.com/users/images/87300ae0-547f-41b8-8f61-3c444b5d12a5_1724760070.2035396.png)\n",
    "![Binning](https://assets.leetcode.com/users/images/9d5e977b-a375-4a6b-8fb7-a004efe635a2_1724760144.1875634.png)\n",
    "\n",
    "### **Handling Missing Values: Data Cleaning Code**\n",
    "\n",
    "Missing values in the data can be handled using various strategies such as deletion, mean/mode/median imputation, or using algorithms that can handle missing data.\n",
    "\n",
    "```python\n",
    "import numpy as np\n",
    "import pandas as pd \n",
    "\n",
    "# Sample data\n"
   ]
  },
  {
   "cell_type": "code",
   "execution_count": 2,
   "metadata": {},
   "outputs": [
    {
     "ename": "SyntaxError",
     "evalue": "invalid syntax (3402661750.py, line 9)",
     "output_type": "error",
     "traceback": [
      "\u001b[1;36m  Cell \u001b[1;32mIn[2], line 9\u001b[1;36m\u001b[0m\n\u001b[1;33m    Data preprocessing is a crucial step in data mining that involves transforming raw data into a useful and efficient format. It prepares data for further analysis by addressing inconsistencies and making sure the data is clean and organized.\u001b[0m\n\u001b[1;37m         ^\u001b[0m\n\u001b[1;31mSyntaxError\u001b[0m\u001b[1;31m:\u001b[0m invalid syntax\n"
     ]
    }
   ],
   "source": []
  },
  {
   "cell_type": "code",
   "execution_count": null,
   "metadata": {},
   "outputs": [],
   "source": []
  }
 ],
 "metadata": {
  "kernelspec": {
   "display_name": "Python 3",
   "language": "python",
   "name": "python3"
  },
  "language_info": {
   "codemirror_mode": {
    "name": "ipython",
    "version": 3
   },
   "file_extension": ".py",
   "mimetype": "text/x-python",
   "name": "python",
   "nbconvert_exporter": "python",
   "pygments_lexer": "ipython3",
   "version": "3.12.3"
  }
 },
 "nbformat": 4,
 "nbformat_minor": 2
}
