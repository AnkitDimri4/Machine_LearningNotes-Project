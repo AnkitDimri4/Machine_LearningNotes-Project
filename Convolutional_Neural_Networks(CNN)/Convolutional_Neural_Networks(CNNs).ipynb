{
 "cells": [
  {
   "cell_type": "markdown",
   "metadata": {},
   "source": [
    "---\n",
    "\n",
    "# **Convolutional Neural Networks (CNNs)**\n",
    "\n",
    "### **Introduction to Convoluted Neural Networks**\n",
    "\n",
    "- #### **Convoluted Neural Network**\n",
    "\n",
    "  - **Convolutional Neural Network (CNN)**:\n",
    "    - CNNs are designed to automatically and adaptively learn spatial hierarchies of features through backpropagation. They excel in image classification and segmentation by learning multi-level features and classifiers jointly, outperforming traditional methods.\n",
    "    - ![Convolutional Neural Networks (CNNs)](<./Images/CNN%20(1).png>)\n",
    "  - ### **Basic Architecture of CNN**\n",
    "    - CNNs generally consist of convolutional layers, activation functions, pooling layers, and fully connected layers, which work together to process and classify image data.\n",
    "    - ![Convolutional Neural Networks (CNNs)](<./Images/CNN%20(2).png>)\n",
    "  - ### **CNN- Components**\n",
    "\n",
    "    - **There are four main components in the CNN:**\n",
    "\n",
    "      1. **Convolution**:\n",
    "         - **Purpose**: Extract features from the input image.\n",
    "         - ![Convolutional Neural Networks (CNNs)](<./Images/CNN%20(4).png>)\n",
    "         - **Parameters**:\n",
    "           - **Depth**: Number of filters (kernels) used.\n",
    "           - **Stride**: Number of pixels the filter moves over the input matrix.\n",
    "           - **Zero-padding**: Padding around the borders of the input matrix to apply the filter on border elements.\n",
    "         - **Types**: With zero padding (wide convolution) and without zero padding (narrow convolution).\n",
    "      2. **Non-Linearity(ReLU)**\n",
    "\n",
    "         - Replaces all negative pixel values in the feature map by zero.\n",
    "         - The purpose of ReLU (Rectified Linear Unit) is to introduce non-linearity in CNN, since most of the real world data would be non - linear.\n",
    "         - Other non - linear functions such as tanh(-1,1) or sigmoid (0,1) can also be used instead of ReLU(0,input)\n",
    "           - ![Convolutional Neural Networks (CNNs)](<./Images/CNN%20(5).png>)\n",
    "\n",
    "      3. **Pooling or Sub-Sampling**\n",
    "\n",
    "         - **Purpose**: Reduce dimensionality while retaining important features.\n",
    "         - **Types**: Max pooling, average pooling, sum pooling.\n",
    "           - **Max**\n",
    "           - **Average**\n",
    "           - **Sum**\n",
    "           - **etc**\n",
    "             - ![Convolutional Neural Networks (CNNs)](<./Images/CNN%20(6).png>)\n",
    "\n",
    "      4. **Classification (Fully Connected Layer)**\n",
    "         - Converts the output from the previous layers into class scores.\n",
    "         - ![Convolutional Neural Networks (CNNs)](<./Images/CNN%20(7).png>)\n",
    "\n",
    "    - ### **Input**\n",
    "      - ![Convolutional Neural Networks (CNNs)](<./Images/CNN%20(3).png>)\n",
    "        - **An image is a matrix of pixel values.**\n",
    "        - **If we consider a grayscale image, the value of each pixel in the matrix will range from 0 to 255.**\n",
    "        - **RGB Image**: Matrix with combined R, G, and B values per pixel.\n",
    "---\n",
    "## **2. Project -- MNIST Handwriting Recognition using Convoluted Neural Network - Python implementation**\n",
    "\n",
    "#### **Importing of libraries**\n"
   ]
  },
  {
   "cell_type": "code",
   "execution_count": 2,
   "metadata": {},
   "outputs": [],
   "source": [
    "from typing import List\n",
    "import matplotlib.pyplot as plt\n",
    "import numpy as np\n",
    "import torch\n",
    "from torch import nn\n",
    "from torch import optim\n",
    "from torch.utils import data\n",
    "from torchvision.datasets import MNIST\n",
    "from torchvision.transforms import ToTensor"
   ]
  },
  {
   "cell_type": "markdown",
   "metadata": {},
   "source": [
    "#### **Load Data**"
   ]
  },
  {
   "cell_type": "code",
   "execution_count": 3,
   "metadata": {},
   "outputs": [
    {
     "name": "stdout",
     "output_type": "stream",
     "text": [
      "Downloading http://yann.lecun.com/exdb/mnist/train-images-idx3-ubyte.gz\n",
      "Failed to download (trying next):\n",
      "HTTP Error 403: Forbidden\n",
      "\n",
      "Downloading https://ossci-datasets.s3.amazonaws.com/mnist/train-images-idx3-ubyte.gz\n",
      "Downloading https://ossci-datasets.s3.amazonaws.com/mnist/train-images-idx3-ubyte.gz to mnist\\MNIST\\raw\\train-images-idx3-ubyte.gz\n"
     ]
    },
    {
     "name": "stderr",
     "output_type": "stream",
     "text": [
      "100.0%\n"
     ]
    },
    {
     "name": "stdout",
     "output_type": "stream",
     "text": [
      "Extracting mnist\\MNIST\\raw\\train-images-idx3-ubyte.gz to mnist\\MNIST\\raw\n",
      "\n",
      "Downloading http://yann.lecun.com/exdb/mnist/train-labels-idx1-ubyte.gz\n",
      "Failed to download (trying next):\n",
      "HTTP Error 403: Forbidden\n",
      "\n",
      "Downloading https://ossci-datasets.s3.amazonaws.com/mnist/train-labels-idx1-ubyte.gz\n",
      "Downloading https://ossci-datasets.s3.amazonaws.com/mnist/train-labels-idx1-ubyte.gz to mnist\\MNIST\\raw\\train-labels-idx1-ubyte.gz\n"
     ]
    },
    {
     "name": "stderr",
     "output_type": "stream",
     "text": [
      "100.0%\n"
     ]
    },
    {
     "name": "stdout",
     "output_type": "stream",
     "text": [
      "Extracting mnist\\MNIST\\raw\\train-labels-idx1-ubyte.gz to mnist\\MNIST\\raw\n",
      "\n",
      "Downloading http://yann.lecun.com/exdb/mnist/t10k-images-idx3-ubyte.gz\n",
      "Failed to download (trying next):\n",
      "HTTP Error 403: Forbidden\n",
      "\n",
      "Downloading https://ossci-datasets.s3.amazonaws.com/mnist/t10k-images-idx3-ubyte.gz\n",
      "Downloading https://ossci-datasets.s3.amazonaws.com/mnist/t10k-images-idx3-ubyte.gz to mnist\\MNIST\\raw\\t10k-images-idx3-ubyte.gz\n"
     ]
    },
    {
     "name": "stderr",
     "output_type": "stream",
     "text": [
      "100.0%\n"
     ]
    },
    {
     "name": "stdout",
     "output_type": "stream",
     "text": [
      "Extracting mnist\\MNIST\\raw\\t10k-images-idx3-ubyte.gz to mnist\\MNIST\\raw\n",
      "\n",
      "Downloading http://yann.lecun.com/exdb/mnist/t10k-labels-idx1-ubyte.gz\n",
      "Failed to download (trying next):\n",
      "HTTP Error 403: Forbidden\n",
      "\n",
      "Downloading https://ossci-datasets.s3.amazonaws.com/mnist/t10k-labels-idx1-ubyte.gz\n",
      "Downloading https://ossci-datasets.s3.amazonaws.com/mnist/t10k-labels-idx1-ubyte.gz to mnist\\MNIST\\raw\\t10k-labels-idx1-ubyte.gz\n"
     ]
    },
    {
     "name": "stderr",
     "output_type": "stream",
     "text": [
      "100.0%"
     ]
    },
    {
     "name": "stdout",
     "output_type": "stream",
     "text": [
      "Extracting mnist\\MNIST\\raw\\t10k-labels-idx1-ubyte.gz to mnist\\MNIST\\raw\n",
      "\n"
     ]
    },
    {
     "name": "stderr",
     "output_type": "stream",
     "text": [
      "\n"
     ]
    }
   ],
   "source": [
    "mnist_train = MNIST(root='mnist', train=True, download=True, transform=ToTensor())\n",
    "mnist_test = MNIST(root='mnist', train=False, download=True, transform=ToTensor())"
   ]
  },
  {
   "cell_type": "markdown",
   "metadata": {},
   "source": [
    "### **For cmap=' '**\n",
    "<details>\n",
    "  <summary>Click to expand!</summary>\n",
    " 'Accent', 'Accent_r', 'Blues', 'Blues_r', 'BrBG', 'BrBG_r', 'BuGn', 'BuGn_r', 'BuPu', 'BuPu_r', 'CMRmap', 'CMRmap_r', 'Dark2', 'Dark2_r', 'GnBu', 'GnBu_r', 'Grays', 'Greens', 'Greens_r', 'Greys', 'Greys_r', 'OrRd', 'OrRd_r', 'Oranges', 'Oranges_r', 'PRGn', 'PRGn_r', 'Paired', 'Paired_r', 'Pastel1', 'Pastel1_r', 'Pastel2', 'Pastel2_r', 'PiYG', 'PiYG_r', 'PuBu', 'PuBuGn', 'PuBuGn_r', 'PuBu_r', 'PuOr', 'PuOr_r', 'PuRd', 'PuRd_r', 'Purples', 'Purples_r', 'RdBu', 'RdBu_r', 'RdGy', 'RdGy_r', 'RdPu', 'RdPu_r', 'RdYlBu', 'RdYlBu_r', 'RdYlGn', 'RdYlGn_r', 'Reds', 'Reds_r', 'Set1', 'Set1_r', 'Set2', 'Set2_r', 'Set3', 'Set3_r', 'Spectral', 'Spectral_r', 'Wistia', 'Wistia_r', 'YlGn', 'YlGnBu', 'YlGnBu_r', 'YlGn_r', 'YlOrBr', 'YlOrBr_r', 'YlOrRd', 'YlOrRd_r', 'afmhot', 'afmhot_r', 'autumn', 'autumn_r', 'binary', 'binary_r', 'bone', 'bone_r', 'brg', 'brg_r', 'bwr', 'bwr_r', 'cividis', 'cividis_r', 'cool', 'cool_r', 'coolwarm', 'coolwarm_r', 'copper', 'copper_r', 'cubehelix', 'cubehelix_r', 'flag', 'flag_r', 'gist_earth', 'gist_earth_r', 'gist_gray', 'gist_gray_r', 'gist_grey', 'gist_heat', 'gist_heat_r', 'gist_ncar', 'gist_ncar_r', 'gist_rainbow', 'gist_rainbow_r', 'gist_stern', 'gist_stern_r', 'gist_yarg', 'gist_yarg_r', 'gist_yerg', 'gnuplot', 'gnuplot2', 'gnuplot2_r', 'gnuplot_r', 'gray', 'gray_r', 'grey', 'hot', 'hot_r', 'hsv', 'hsv_r', 'inferno', 'inferno_r', 'jet', 'jet_r', 'magma', 'magma_r', 'nipy_spectral', 'nipy_spectral_r', 'ocean', 'ocean_r', 'pink', 'pink_r', 'plasma', 'plasma_r', 'prism', 'prism_r', 'rainbow', 'rainbow_r', 'seismic', 'seismic_r', 'spring', 'spring_r', 'summer', 'summer_r', 'tab10', 'tab10_r', 'tab20', 'tab20_r', 'tab20b', 'tab20b_r', 'tab20c', 'tab20c_r', 'terrain', 'terrain_r', 'turbo', 'turbo_r', 'twilight', 'twilight_r', 'twilight_shifted', 'twilight_shifted_r', 'viridis', 'viridis_r', 'winter', 'winter_r'\n",
    " </details>"
   ]
  },
  {
   "cell_type": "markdown",
   "metadata": {},
   "source": [
    "#### **Display Sample Images**"
   ]
  },
  {
   "cell_type": "code",
   "execution_count": 4,
   "metadata": {},
   "outputs": [
    {
     "data": {
      "image/png": "[encoded data removed]",
      "text/plain": [
       "<Figure size 1000x400 with 10 Axes>"
      ]
     },
     "metadata": {},
     "output_type": "display_data"
    }
   ],
   "source": [
    "examples = []\n",
    "for target in range(10):\n",
    "    for img, label in mnist_train:\n",
    "        if target == label:\n",
    "            examples.append(img)\n",
    "            break\n",
    "\n",
    "fig, ax = plt.subplots(2, 5, figsize=(10, 4))\n",
    "for label, img in enumerate(examples):\n",
    "    col = label % 5\n",
    "    row = label // 5\n",
    "    ax[row, col].imshow(img.squeeze(), cmap='Accent')\n",
    "    ax[row, col].set_title(f'{label}')\n",
    "    ax[row, col].axis('off')"
   ]
  },
  {
   "cell_type": "markdown",
   "metadata": {},
   "source": [
    "#### **Check Image Tensor Shape**"
   ]
  },
  {
   "cell_type": "code",
   "execution_count": 5,
   "metadata": {},
   "outputs": [
    {
     "name": "stdout",
     "output_type": "stream",
     "text": [
      "Shape of the image tensor torch.Size([1, 28, 28])\n"
     ]
    }
   ],
   "source": [
    "img, label = mnist_train[0]\n",
    "print('Shape of the image tensor', img.shape)"
   ]
  },
  {
   "cell_type": "markdown",
   "metadata": {},
   "source": [
    "#### **Implement CNN**"
   ]
  },
  {
   "cell_type": "code",
   "execution_count": 7,
   "metadata": {},
   "outputs": [],
   "source": [
    "class CNN(nn.Module):\n",
    "    def __init__(self):\n",
    "        super(CNN, self).__init__()\n",
    "        self.conv1 = nn.Conv2d(1, 16, kernel_size=3, stride=1, padding=1)\n",
    "        self.relu1 = nn.ReLU()\n",
    "        self.pool1 = nn.MaxPool2d(kernel_size=2, stride=2)\n",
    "        self.conv2 = nn.Conv2d(16, 32, kernel_size=3, stride=1, padding=1)\n",
    "        self.relu2 = nn.ReLU()\n",
    "        self.pool2 = nn.MaxPool2d(kernel_size=2, stride=2)\n",
    "        self.fc1 = nn.Linear(32 * 7 * 7, 10)\n",
    "\n",
    "    def forward(self, x):\n",
    "        x = self.conv1(x)\n",
    "        x = self.relu1(x)\n",
    "        x = self.pool1(x)\n",
    "        x = self.conv2(x)\n",
    "        x = self.relu2(x)\n",
    "        x = self.pool2(x)\n",
    "        x = x.view(x.size(0), -1)\n",
    "        x = self.fc1(x)\n",
    "        return x"
   ]
  },
  {
   "cell_type": "markdown",
   "metadata": {},
   "source": [
    "#### **Train CNN**"
   ]
  },
  {
   "cell_type": "code",
   "execution_count": 8,
   "metadata": {},
   "outputs": [
    {
     "name": "stdout",
     "output_type": "stream",
     "text": [
      "Loss (1/10): 113.588\n",
      "Loss (2/10): 29.751\n",
      "Loss (3/10): 18.526\n",
      "Loss (4/10): 14.588\n",
      "Loss (5/10): 12.080\n",
      "Loss (6/10): 10.600\n",
      "Loss (7/10): 9.687\n",
      "Loss (8/10): 8.761\n",
      "Loss (9/10): 8.085\n",
      "Loss (10/10): 7.509\n"
     ]
    }
   ],
   "source": [
    "device = 'cpu'\n",
    "cnn = CNN().to(device)\n",
    "\n",
    "epochs = 10\n",
    "batch_size = 300\n",
    "\n",
    "criterion = nn.CrossEntropyLoss()\n",
    "optimizer = optim.Adam(cnn.parameters(), lr=0.001)\n",
    "\n",
    "train_loader = data.DataLoader(mnist_train, batch_size=batch_size, shuffle=True)\n",
    "\n",
    "for epoch in range(epochs):\n",
    "    epoch_loss = 0.0\n",
    "    for imgs, labels in train_loader:\n",
    "        imgs = imgs.to(device)\n",
    "        labels = labels.to(device)\n",
    "\n",
    "        optimizer.zero_grad()\n",
    "        outputs = cnn(imgs)\n",
    "        loss = criterion(outputs, labels)\n",
    "        loss.backward()\n",
    "        optimizer.step()\n",
    "\n",
    "        epoch_loss += loss.detach().cpu().item()\n",
    "\n",
    "    print(f'Loss ({epoch+1}/{epochs}): {epoch_loss:.3f}')"
   ]
  },
  {
   "cell_type": "markdown",
   "metadata": {},
   "source": [
    "#### **Evaluate CNN**"
   ]
  },
  {
   "cell_type": "code",
   "execution_count": 13,
   "metadata": {},
   "outputs": [
    {
     "name": "stdout",
     "output_type": "stream",
     "text": [
      "F1 Score: 0.9864\n",
      "Confusion Matrix:\n",
      "[[ 974    0    1    0    1    0    1    1    2    0]\n",
      " [   0 1130    4    0    1    0    0    0    0    0]\n",
      " [   1    1 1025    0    1    0    0    2    2    0]\n",
      " [   1    0    0  999    0    6    0    1    3    0]\n",
      " [   0    0    0    0  978    0    1    0    2    1]\n",
      " [   2    0    1    4    0  880    2    0    2    1]\n",
      " [   5    2    0    0    2    1  943    0    5    0]\n",
      " [   0    3   15    2    0    1    0  998    3    6]\n",
      " [   4    0    3    1    3    2    0    1  958    2]\n",
      " [   2    4    0    0   13    5    0    4    2  979]]\n"
     ]
    }
   ],
   "source": [
    "from sklearn.metrics import confusion_matrix, f1_score\n",
    "\n",
    "cnn.eval()\n",
    "labels_true = []\n",
    "labels_pred = []\n",
    "\n",
    "test_loader = torch.utils.data.DataLoader(mnist_test, batch_size=batch_size, shuffle=False)\n",
    "for imgs, labels in test_loader:\n",
    "    imgs = imgs.to(device)\n",
    "    labels = labels.to(device)\n",
    "\n",
    "    outputs = cnn(imgs)\n",
    "    _, predicted = torch.max(outputs.data, 1)\n",
    "\n",
    "    labels_true.extend(labels.cpu().tolist())\n",
    "    labels_pred.extend(predicted.cpu().tolist())\n",
    "\n",
    "confusion_mat = confusion_matrix(labels_true, labels_pred)\n",
    "f1 = f1_score(labels_true, labels_pred, average='micro')\n",
    "print(f'F1 Score: {f1:.4f}')\n",
    "print('Confusion Matrix:')\n",
    "print(confusion_mat)"
   ]
  },
  {
   "cell_type": "markdown",
   "metadata": {},
   "source": [
    "**The F1 Score of 0.9864 highlights exceptional classification performance, reflecting the model's high accuracy across all classes.**\n",
    "\n",
    "---"
   ]
  }
 ],
 "metadata": {
  "kernelspec": {
   "display_name": "Python 3",
   "language": "python",
   "name": "python3"
  },
  "language_info": {
   "codemirror_mode": {
    "name": "ipython",
    "version": 3
   },
   "file_extension": ".py",
   "mimetype": "text/x-python",
   "name": "python",
   "nbconvert_exporter": "python",
   "pygments_lexer": "ipython3",
   "version": "3.12.3"
  }
 },
 "nbformat": 4,
 "nbformat_minor": 2
}
